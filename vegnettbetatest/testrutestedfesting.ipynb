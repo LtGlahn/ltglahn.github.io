{
 "cells": [
  {
   "cell_type": "markdown",
   "metadata": {},
   "source": [
    "Testklient for nye vegnettfunksjoner for stedfesting m.m. "
   ]
  },
  {
   "cell_type": "code",
   "execution_count": 2,
   "metadata": {},
   "outputs": [],
   "source": [
    "import requests\n",
    "import json\n",
    "import hvplot \n",
    "import pandas as pd\n",
    "import datetime\n",
    "import xmltodict\n",
    "\n",
    "# Geodata-stuff \n",
    "import geopandas as gpd\n",
    "from shapely import wkt\n",
    "from shapely.geometry import Point\n",
    "import hvplot.pandas\n",
    "from holoviews import opts\n",
    "import holoviews as hv\n",
    "import cartopy.crs as ccrs\n",
    "\n",
    "# støtte for scroll med mus\n",
    "opts.defaults( \n",
    "    opts.Overlay(\n",
    "        width=400, height=600,\n",
    "        active_tools=['wheel_zoom']\n",
    "))"
   ]
  },
  {
   "cell_type": "code",
   "execution_count": 3,
   "metadata": {},
   "outputs": [],
   "source": [
    "# Omsette kall til visveginfo => geopandas\n",
    "def hentvisveginfo( startEasting , startNorthing, endEasting, endNorthing, topologylevel='Overview'):\n",
    "    url = 'https://visveginfo.opentns.org/RoadInfoService/GetRoadDataAlongRouteBetweenLocations'\n",
    "    params = { 'viewDate' : str( datetime.date.today() ), \n",
    "               'TopologyLevel' : topologylevel, \n",
    "                 'startEasting' : startEasting, \n",
    "                 'startNorthing': startNorthing, \n",
    "                 'endEasting' : endEasting, \n",
    "                 'endNorthing' : endNorthing }\n",
    "    r = requests.get( url, params)\n",
    "    \n",
    "    data = xmltodict.parse( r.text )\n",
    "    \n",
    "    if not 'RoadLineReference' in data['RouteWithData']['Route'].keys(): \n",
    "        return None \n",
    "    \n",
    "    \n",
    "    mylist = []\n",
    "    if isinstance( data['RouteWithData']['Route']['RoadLineReference'], list ): \n",
    "        for link in data['RouteWithData']['Route']['RoadLineReference']:\n",
    "            mylist.append( vvisegment2dict( link ))\n",
    "    else: \n",
    "        mylist.append( vvisegment2dict( data['RouteWithData']['Route']['RoadLineReference']  ) )\n",
    "    \n",
    "    mydf = pd.DataFrame( mylist)\n",
    "    mygdf = gpd.GeoDataFrame( mydf, geometry='geometry')\n",
    "    mygdf.crs = { 'init' : 'epsg:25833'}\n",
    "    return mygdf\n",
    "    \n",
    "def vvisegment2dict( link):\n",
    "    \n",
    "    start = round( float( link['FromMeasure'] ), 8 )\n",
    "    slutt = round( float( link['ToMeasure']   ), 8 )\n",
    "    mydict = { 'vegref' : str( link['County']).zfill(2) + str( link['Municipality'] ).zfill(2) + ' ' + \\\n",
    "                          link['RoadCategory'].upper() + link['RoadStatus'].lower() + str( link['RoadNumber']) + \\\n",
    "                          'hp' + str( link['RoadNumberSegment']) + ' m' + \\\n",
    "                          str(link['RoadNumberSegmentStartDistance'] ) + '-' + \\\n",
    "                          str( link['RoadNumberSegmentEndDistance']), \n",
    "               'veglenkesekvensid' : link['ReflinkOID'], \n",
    "               'startposisjon' : start, \n",
    "               'sluttposisjon' : slutt, \n",
    "               'kortform'      : str( start ) + '-' + str( slutt ) + \\\n",
    "                                  '@' + str( link['ReflinkOID']), \n",
    "               'geometry'      :  wkt.loads( link['WKTGeometry']  )\n",
    "            }\n",
    "    mydict['lengde'] = mydict['geometry'].length\n",
    "    \n",
    "    return mydict   "
   ]
  },
  {
   "cell_type": "code",
   "execution_count": 4,
   "metadata": {},
   "outputs": [],
   "source": [
    "# Går fra punkt-koordinat til geodataframe\n",
    "def koord2gdf( startEasting , startNorthing, endEasting, endNorthing, navn='Rute'):\n",
    "    \"\"\"\n",
    "    Omsetter start- og sluttpunkt til geodataframe\n",
    "    \"\"\"\n",
    "    mylist = []\n",
    "    mylist.append( punkt2dict( startEasting, startNorthing, ' '.join( [ navn, 'start' ] )  ) )\n",
    "    mylist.append( punkt2dict( endEasting, endNorthing, ' '.join([ navn, 'slutt' ])  ) )    \n",
    "    \n",
    "    tempdf = pd.DataFrame( mylist )\n",
    "    mygdf = gpd.GeoDataFrame( tempdf, geometry='geometry')\n",
    "    return mygdf \n",
    "    \n",
    "def punkt2dict(x, y, navn  ):\n",
    "    \"\"\"\n",
    "    Omsetter punkt + navn til dictionary med shapely POINT \n",
    "    \"\"\"\n",
    "    retval =  { 'navn' : navn, 'geometry' : Point( x, y)  }\n",
    "    return retval "
   ]
  },
  {
   "cell_type": "code",
   "execution_count": 5,
   "metadata": {},
   "outputs": [],
   "source": [
    "# Henter rute fra nytt rute-endepunkt \n",
    "def hentstrekning( startEasting , startNorthing, endEasting, endNorthing, **kwargs):\n",
    "    url = 'https://nvdbw01.kantega.no/nvdb/api/v3/beta/vegnett/rute'\n",
    "    # url = 'https://apilesv3.utv.atlas.vegvesen.no/beta/vegnett/rute'\n",
    "    params = { 'start' :  str(startEasting) + ',' + str(startNorthing ), \n",
    "                'slutt' : str(endEasting)   + ',' + str(endNorthing), \n",
    "                 **kwargs }\n",
    "    \n",
    "    r = requests.get( url, params=params )\n",
    "    print( r.url )\n",
    "    \n",
    "    data = r.json()\n",
    "    linklist = []\n",
    "    \n",
    "    for link in data: \n",
    "        linklist.append( v3segment2dict( link ) )\n",
    "        \n",
    "    mydf = pd.DataFrame( linklist)\n",
    "    mylinkgdf = gpd.GeoDataFrame( mydf, geometry='geometry')\n",
    "    \n",
    "    return mylinkgdf\n",
    "\n",
    "def v3punkt2dict( punkt, navn='navn' ): \n",
    "    punkt['geometry'] = wkt.loads( punkt['geometri']['wkt'] )\n",
    "    punkt['vegref'] = punkt['vegsystemreferanse']['kortform']\n",
    "    punkt['navn'] = navn\n",
    "    punkt['kortform'] = punkt['veglenkesekvens']['kortform']\n",
    "    \n",
    "    return punkt\n",
    "\n",
    "def v3segment2dict( link): \n",
    "    link['geometry'] = wkt.loads( link['geometri']['wkt'] )\n",
    "    link['vegref'] = link['vegsystemreferanse']['kortform']\n",
    "    return link"
   ]
  },
  {
   "cell_type": "code",
   "execution_count": 6,
   "metadata": {},
   "outputs": [],
   "source": [
    "# Visveginfo eksempel \n",
    "x1 = -2162.328125\n",
    "y1 = 6652822 \n",
    "x2 = 3915.72\n",
    "y2 = 6653972.18\n",
    "\n",
    "\n",
    "# Breidablikkveien, hver side av rundkjøring\n",
    "x1 = 269303.11\n",
    "y1 = 7039794.91\n",
    "x2 = 269218.65\n",
    "y2 = 7039853.75\n",
    "\n",
    "\n",
    "# Bratsbergveien, kort bit\n",
    "x1 = 270808.18\n",
    "y1 = 7037350.54\n",
    "x2 = 270820.74\n",
    "y2 = 7037339.47\n",
    "\n",
    "# Kantega eksempel \n",
    "x1 = 225205.2985792723\n",
    "y1 = 6564325.697602992\n",
    "x2 = 225256.7469531842\n",
    "y2 = 6564356.513124289\n",
    "\n",
    "# Breidablikkveien, hver side av rundkjøring\n",
    "x1 = 269303.11\n",
    "y1 = 7039794.91\n",
    "x2 = 269218.65\n",
    "y2 = 7039853.75\n",
    "\n",
    "# Sandefjord rundkj\n",
    "x1=227302.03432728566\n",
    "y1=6564019.459212849\n",
    "x2=227381.15034680913\n",
    "y2=6563997.188293161\n",
    "\n"
   ]
  },
  {
   "cell_type": "markdown",
   "metadata": {},
   "source": [
    "# Henter ruteforslag \n",
    "\n",
    "Henter ruteforslag fra visveginfo og den nye tjenesten"
   ]
  },
  {
   "cell_type": "code",
   "execution_count": 7,
   "metadata": {},
   "outputs": [
    {
     "name": "stdout",
     "output_type": "stream",
     "text": [
      "https://nvdbw01.kantega.no/nvdb/api/v3/beta/vegnett/rute?start=227302.03432728566%2C6564019.459212849&slutt=227381.15034680913%2C6563997.188293161&omkrets=100&detaljerte_lenker=False\n",
      "https://nvdbw01.kantega.no/nvdb/api/v3/beta/vegnett/rute?start=227302.03432728566%2C6564019.459212849&slutt=227381.15034680913%2C6563997.188293161&omkrets=100&detaljerte_lenker=True\n"
     ]
    }
   ],
   "source": [
    "vvirute = hentvisveginfo( x1, y1, x2, y2)\n",
    "nyrute_vt = hentstrekning( x1, y1, x2, y2, omkrets=100, detaljerte_lenker=False)\n",
    "nyrute_kb = hentstrekning( x1, y1, x2, y2, omkrets=100, detaljerte_lenker=True)\n",
    "orginalpunkt = koord2gdf( x1, y1, x2, y2)\n"
   ]
  },
  {
   "cell_type": "code",
   "execution_count": 8,
   "metadata": {},
   "outputs": [
    {
     "data": {
      "application/vnd.holoviews_exec.v0+json": "",
      "text/html": [
       "<div id='1449' style='display: table; margin: 0 auto;'>\n",
       "\n",
       "\n",
       "\n",
       "\n",
       "\n",
       "  <div class=\"bk-root\" id=\"27f4179e-97c2-4d0a-a12b-19b7080fd12b\" data-root-id=\"1449\"></div>\n",
       "</div>\n",
       "<script type=\"application/javascript\">(function(root) {\n",
       "  function embed_document(root) {\n",
       "    \n",
       "  var docs_json = {\"9ab31ecb-283e-4190-9672-42928bcb7afd\":{\"roots\":{\"references\":[{\"attributes\":{\"children\":[{\"id\":\"1448\",\"type\":\"ToolbarBox\"},{\"id\":\"1446\",\"type\":\"GridBox\"}]},\"id\":\"1449\",\"type\":\"Column\"},{\"attributes\":{},\"id\":\"1119\",\"type\":\"UnionRenderers\"},{\"attributes\":{\"dimension\":\"lon\"},\"id\":\"1066\",\"type\":\"MercatorTickFormatter\"},{\"attributes\":{},\"id\":\"1117\",\"type\":\"UnionRenderers\"},{\"attributes\":{\"callback\":null,\"data\":{\"color\":[\"0.0-0.06260388@1176155\",\"0.27504203-0.35710288@1175662\",\"0.27504203-0.35710288@1175662\",\"0.27504203-0.35710288@1175662\",\"0.27504203-0.35710288@1175662\",\"0.20169356-0.27504203@1175662\",\"0.20169356-0.27504203@1175662\",\"0.20169356-0.27504203@1175662\",\"0.20169356-0.27504203@1175662\",\"0.12177414-0.20169356@1175662\",\"0.12177414-0.20169356@1175662\",\"0.12177414-0.20169356@1175662\",\"0.12177414-0.20169356@1175662\",\"0.0-0.12177414@1175662\",\"0.0-0.12177414@1175662\",\"0.0-0.12177414@1175662\",\"0.0-0.12177414@1175662\",\"0.0-0.12177414@1175662\",\"0.0-0.12177414@1175662\",\"0.41080731-1.0@1176154\",\"0.41080731-1.0@1176154\"],\"kortform\":[\"0.0-0.06260388@1176155\",\"0.27504203-0.35710288@1175662\",\"0.27504203-0.35710288@1175662\",\"0.27504203-0.35710288@1175662\",\"0.27504203-0.35710288@1175662\",\"0.20169356-0.27504203@1175662\",\"0.20169356-0.27504203@1175662\",\"0.20169356-0.27504203@1175662\",\"0.20169356-0.27504203@1175662\",\"0.12177414-0.20169356@1175662\",\"0.12177414-0.20169356@1175662\",\"0.12177414-0.20169356@1175662\",\"0.12177414-0.20169356@1175662\",\"0.0-0.12177414@1175662\",\"0.0-0.12177414@1175662\",\"0.0-0.12177414@1175662\",\"0.0-0.12177414@1175662\",\"0.0-0.12177414@1175662\",\"0.0-0.12177414@1175662\",\"0.41080731-1.0@1176154\",\"0.41080731-1.0@1176154\"],\"xs\":[{\"__ndarray__\":\"6/Fkxw9iMUG/e/Mb1mExQQ==\",\"dtype\":\"float64\",\"shape\":[2]},{\"__ndarray__\":\"le2V/hliMUF9hoD2FmIxQQ==\",\"dtype\":\"float64\",\"shape\":[2]},{\"__ndarray__\":\"fYaA9hZiMUHH6b9YFGIxQQ==\",\"dtype\":\"float64\",\"shape\":[2]},{\"__ndarray__\":\"x+m/WBRiMUEBskP3EWIxQQ==\",\"dtype\":\"float64\",\"shape\":[2]},{\"__ndarray__\":\"AbJD9xFiMUHr8WTHD2IxQQ==\",\"dtype\":\"float64\",\"shape\":[2]},{\"__ndarray__\":\"+nOHAyViMUFqOZfiIWIxQQ==\",\"dtype\":\"float64\",\"shape\":[2]},{\"__ndarray__\":\"ajmX4iFiMUEiUeTuH2IxQQ==\",\"dtype\":\"float64\",\"shape\":[2]},{\"__ndarray__\":\"IlHk7h9iMUH17CfcHGIxQQ==\",\"dtype\":\"float64\",\"shape\":[2]},{\"__ndarray__\":\"9ewn3BxiMUGV7ZX+GWIxQQ==\",\"dtype\":\"float64\",\"shape\":[2]},{\"__ndarray__\":\"zMTSPTBiMUGUtH3KLWIxQQ==\",\"dtype\":\"float64\",\"shape\":[2]},{\"__ndarray__\":\"lLR9yi1iMUFNVN3FKmIxQQ==\",\"dtype\":\"float64\",\"shape\":[2]},{\"__ndarray__\":\"TVTdxSpiMUEfKvT5J2IxQQ==\",\"dtype\":\"float64\",\"shape\":[2]},{\"__ndarray__\":\"Hyr0+SdiMUH6c4cDJWIxQQ==\",\"dtype\":\"float64\",\"shape\":[2]},{\"__ndarray__\":\"M7EC6DliMUHgHs8WOWIxQQ==\",\"dtype\":\"float64\",\"shape\":[2]},{\"__ndarray__\":\"4B7PFjliMUHZ3KQeOGIxQQ==\",\"dtype\":\"float64\",\"shape\":[2]},{\"__ndarray__\":\"2dykHjhiMUFoa6KRNmIxQQ==\",\"dtype\":\"float64\",\"shape\":[2]},{\"__ndarray__\":\"aGuikTZiMUEshQLTNGIxQQ==\",\"dtype\":\"float64\",\"shape\":[2]},{\"__ndarray__\":\"LIUC0zRiMUEisLS0MmIxQQ==\",\"dtype\":\"float64\",\"shape\":[2]},{\"__ndarray__\":\"IrC0tDJiMUHMxNI9MGIxQQ==\",\"dtype\":\"float64\",\"shape\":[2]},{\"__ndarray__\":\"pga1PnJiMUE8ZK1RTGIxQQ==\",\"dtype\":\"float64\",\"shape\":[2]},{\"__ndarray__\":\"PGStUUxiMUEzsQLoOWIxQQ==\",\"dtype\":\"float64\",\"shape\":[2]}],\"ys\":[{\"__ndarray__\":\"CjNNcqpPX0FFBWLqq09fQQ==\",\"dtype\":\"float64\",\"shape\":[2]},{\"__ndarray__\":\"4irVMKxPX0Gr7Xnkq09fQQ==\",\"dtype\":\"float64\",\"shape\":[2]},{\"__ndarray__\":\"q+155KtPX0EiAQyBq09fQQ==\",\"dtype\":\"float64\",\"shape\":[2]},{\"__ndarray__\":\"IgEMgatPX0FLxzr5qk9fQQ==\",\"dtype\":\"float64\",\"shape\":[2]},{\"__ndarray__\":\"S8c6+apPX0EKM01yqk9fQQ==\",\"dtype\":\"float64\",\"shape\":[2]},{\"__ndarray__\":\"DMJefKxPX0GceP6GrE9fQQ==\",\"dtype\":\"float64\",\"shape\":[2]},{\"__ndarray__\":\"nHj+hqxPX0HuCIeKrE9fQQ==\",\"dtype\":\"float64\",\"shape\":[2]},{\"__ndarray__\":\"7giHiqxPX0Gwx3JjrE9fQQ==\",\"dtype\":\"float64\",\"shape\":[2]},{\"__ndarray__\":\"sMdyY6xPX0HiKtUwrE9fQQ==\",\"dtype\":\"float64\",\"shape\":[2]},{\"__ndarray__\":\"4u6rXqtPX0FCJdXDq09fQQ==\",\"dtype\":\"float64\",\"shape\":[2]},{\"__ndarray__\":\"QiXVw6tPX0EudOYZrE9fQQ==\",\"dtype\":\"float64\",\"shape\":[2]},{\"__ndarray__\":\"LnTmGaxPX0HeagFYrE9fQQ==\",\"dtype\":\"float64\",\"shape\":[2]},{\"__ndarray__\":\"3moBWKxPX0EMwl58rE9fQQ==\",\"dtype\":\"float64\",\"shape\":[2]},{\"__ndarray__\":\"0X7jiqdPX0HkNHVbqE9fQQ==\",\"dtype\":\"float64\",\"shape\":[2]},{\"__ndarray__\":\"5DR1W6hPX0FUX9wFqU9fQQ==\",\"dtype\":\"float64\",\"shape\":[2]},{\"__ndarray__\":\"VF/cBalPX0G2p5itqU9fQQ==\",\"dtype\":\"float64\",\"shape\":[2]},{\"__ndarray__\":\"tqeYralPX0FeUHFUqk9fQQ==\",\"dtype\":\"float64\",\"shape\":[2]},{\"__ndarray__\":\"XlBxVKpPX0EluxXtqk9fQQ==\",\"dtype\":\"float64\",\"shape\":[2]},{\"__ndarray__\":\"JbsV7apPX0Hi7qteq09fQQ==\",\"dtype\":\"float64\",\"shape\":[2]},{\"__ndarray__\":\"FfyLHaNPX0FyLNDSpU9fQQ==\",\"dtype\":\"float64\",\"shape\":[2]},{\"__ndarray__\":\"cizQ0qVPX0HRfuOKp09fQQ==\",\"dtype\":\"float64\",\"shape\":[2]}]},\"selected\":{\"id\":\"1362\",\"type\":\"Selection\"},\"selection_policy\":{\"id\":\"1385\",\"type\":\"UnionRenderers\"}},\"id\":\"1361\",\"type\":\"ColumnDataSource\"},{\"attributes\":{\"dimension\":\"lon\"},\"id\":\"1334\",\"type\":\"MercatorTickFormatter\"},{\"attributes\":{\"line_alpha\":{\"value\":0.2},\"line_color\":{\"field\":\"color\",\"transform\":{\"id\":\"1092\",\"type\":\"CategoricalColorMapper\"}},\"line_width\":{\"value\":10},\"xs\":{\"field\":\"xs\"},\"ys\":{\"field\":\"ys\"}},\"id\":\"1098\",\"type\":\"MultiLine\"},{\"attributes\":{\"dimension\":\"lat\"},\"id\":\"1068\",\"type\":\"MercatorTickFormatter\"},{\"attributes\":{\"align\":null,\"below\":[{\"id\":\"1040\",\"type\":\"LinearAxis\"}],\"center\":[{\"id\":\"1044\",\"type\":\"Grid\"},{\"id\":\"1049\",\"type\":\"Grid\"}],\"frame_height\":600,\"frame_width\":400,\"left\":[{\"id\":\"1045\",\"type\":\"LinearAxis\"}],\"margin\":null,\"match_aspect\":true,\"min_border_bottom\":10,\"min_border_left\":10,\"min_border_right\":10,\"min_border_top\":10,\"plot_width\":400,\"renderers\":[{\"id\":\"1088\",\"type\":\"TileRenderer\"},{\"id\":\"1099\",\"type\":\"GlyphRenderer\"},{\"id\":\"1109\",\"type\":\"GlyphRenderer\"}],\"sizing_mode\":\"fixed\",\"title\":{\"id\":\"1032\",\"type\":\"Title\"},\"toolbar\":{\"id\":\"1055\",\"type\":\"Toolbar\"},\"toolbar_location\":null,\"x_range\":{\"id\":\"1021\",\"type\":\"Range1d\"},\"x_scale\":{\"id\":\"1036\",\"type\":\"LinearScale\"},\"y_range\":{\"id\":\"1022\",\"type\":\"Range1d\"},\"y_scale\":{\"id\":\"1038\",\"type\":\"LinearScale\"}},\"id\":\"1031\",\"subtype\":\"Figure\",\"type\":\"Plot\"},{\"attributes\":{\"dimension\":\"lat\"},\"id\":\"1335\",\"type\":\"MercatorTicker\"},{\"attributes\":{\"bottom_units\":\"screen\",\"fill_alpha\":{\"value\":0.5},\"fill_color\":{\"value\":\"lightgrey\"},\"left_units\":\"screen\",\"level\":\"overlay\",\"line_alpha\":{\"value\":1.0},\"line_color\":{\"value\":\"black\"},\"line_dash\":[4,4],\"line_width\":{\"value\":2},\"render_mode\":\"css\",\"right_units\":\"screen\",\"top_units\":\"screen\"},\"id\":\"1082\",\"type\":\"BoxAnnotation\"},{\"attributes\":{\"line_color\":{\"field\":\"color\",\"transform\":{\"id\":\"1092\",\"type\":\"CategoricalColorMapper\"}},\"line_width\":{\"value\":10},\"xs\":{\"field\":\"xs\"},\"ys\":{\"field\":\"ys\"}},\"id\":\"1096\",\"type\":\"MultiLine\"},{\"attributes\":{\"dimension\":\"lat\"},\"id\":\"1336\",\"type\":\"MercatorTickFormatter\"},{\"attributes\":{\"source\":{\"id\":\"1093\",\"type\":\"ColumnDataSource\"}},\"id\":\"1100\",\"type\":\"CDSView\"},{\"attributes\":{\"dimension\":\"lon\"},\"id\":\"1200\",\"type\":\"MercatorTickFormatter\"},{\"attributes\":{\"callback\":null,\"formatters\":{\"Latitude\":{\"id\":\"1112\",\"type\":\"CustomJSHover\"},\"Longitude\":{\"id\":\"1111\",\"type\":\"CustomJSHover\"}},\"renderers\":[{\"id\":\"1109\",\"type\":\"GlyphRenderer\"}],\"tags\":[\"hv_created\"],\"tooltips\":[[\"Longitude\",\"@{Longitude}{custom}\"],[\"Latitude\",\"@{Latitude}{custom}\"]]},\"id\":\"1028\",\"type\":\"HoverTool\"},{\"attributes\":{\"attribution\":\"&copy; <a href=\\\"https://www.openstreetmap.org/copyright\\\">OpenStreetMap</a> contributors\",\"url\":\"http://c.tile.openstreetmap.org/{Z}/{X}/{Y}.png\"},\"id\":\"1085\",\"type\":\"WMTSTileSource\"},{\"attributes\":{\"line_alpha\":{\"value\":0.1},\"line_color\":{\"field\":\"color\",\"transform\":{\"id\":\"1092\",\"type\":\"CategoricalColorMapper\"}},\"line_width\":{\"value\":10},\"xs\":{\"field\":\"xs\"},\"ys\":{\"field\":\"ys\"}},\"id\":\"1097\",\"type\":\"MultiLine\"},{\"attributes\":{\"factors\":[\"0.0-0.05929533@1175658\",\"0.43779468-0.93970825@1175662\",\"0.92601386-1.0@1175657\",\"0.0-0.05929495@1175658\",\"0.35710288-0.43779468@1175662\",\"0.27504203-0.35710288@1175662\",\"0.20169356-0.27504203@1175662\",\"0.12177414-0.20169356@1175662\",\"0.0-0.12177414@1175662\",\"0.93970825-1.0@1175662\",\"0.92601385-1.0@1175657\",\"0.0-0.06260388@1176155\",\"0.41080731-1.0@1176154\"],\"palette\":[\"#1f77b4\",\"#ff7f0e\",\"#2ca02c\",\"#d62728\",\"#9467bd\",\"#8c564b\",\"#e377c2\",\"#7f7f7f\",\"#bcbd22\",\"#17becf\",\"#1f77b4\",\"#ff7f0e\",\"#2ca02c\"]},\"id\":\"1092\",\"type\":\"CategoricalColorMapper\"},{\"attributes\":{\"dimension\":\"lat\"},\"id\":\"1067\",\"type\":\"MercatorTicker\"},{\"attributes\":{},\"id\":\"1054\",\"type\":\"ResetTool\"},{\"attributes\":{\"callback\":null,\"renderers\":[{\"id\":\"1099\",\"type\":\"GlyphRenderer\"}],\"tags\":[\"hv_created\"],\"tooltips\":[[\"kortform\",\"@{kortform}\"]]},\"id\":\"1025\",\"type\":\"HoverTool\"},{\"attributes\":{\"zoom_on_axis\":false},\"id\":\"1052\",\"type\":\"WheelZoomTool\"},{\"attributes\":{\"dimension\":1,\"grid_line_color\":null,\"ticker\":{\"id\":\"1046\",\"type\":\"BasicTicker\"}},\"id\":\"1049\",\"type\":\"Grid\"},{\"attributes\":{},\"id\":\"1051\",\"type\":\"PanTool\"},{\"attributes\":{\"match_aspect\":true,\"overlay\":{\"id\":\"1082\",\"type\":\"BoxAnnotation\"}},\"id\":\"1053\",\"type\":\"BoxZoomTool\"},{\"attributes\":{\"fill_color\":{\"value\":\"#007f00\"},\"line_color\":{\"value\":\"#007f00\"},\"size\":{\"units\":\"screen\",\"value\":10.0},\"x\":{\"field\":\"Longitude\"},\"y\":{\"field\":\"Latitude\"}},\"id\":\"1374\",\"type\":\"Scatter\"},{\"attributes\":{\"code\":\"\\n        var projections = require(\\\"core/util/projections\\\");\\n        var x = special_vars.data_x\\n        var y = special_vars.data_y\\n        var coords = projections.wgs84_mercator.inverse([x, y])\\n        return \\\"\\\" + (coords[0]).toFixed(4)\\n    \"},\"id\":\"1379\",\"type\":\"CustomJSHover\"},{\"attributes\":{},\"id\":\"1041\",\"type\":\"BasicTicker\"},{\"attributes\":{\"callback\":null,\"data\":{\"color\":[\"0.0-0.05929495@1175658\",\"0.35710288-0.43779468@1175662\",\"0.35710288-0.43779468@1175662\",\"0.35710288-0.43779468@1175662\",\"0.35710288-0.43779468@1175662\",\"0.27504203-0.35710288@1175662\",\"0.27504203-0.35710288@1175662\",\"0.27504203-0.35710288@1175662\",\"0.27504203-0.35710288@1175662\",\"0.20169356-0.27504203@1175662\",\"0.20169356-0.27504203@1175662\",\"0.20169356-0.27504203@1175662\",\"0.20169356-0.27504203@1175662\",\"0.12177414-0.20169356@1175662\",\"0.12177414-0.20169356@1175662\",\"0.12177414-0.20169356@1175662\",\"0.12177414-0.20169356@1175662\",\"0.0-0.12177414@1175662\",\"0.0-0.12177414@1175662\",\"0.0-0.12177414@1175662\",\"0.0-0.12177414@1175662\",\"0.0-0.12177414@1175662\",\"0.0-0.12177414@1175662\",\"0.93970825-1.0@1175662\",\"0.93970825-1.0@1175662\",\"0.93970825-1.0@1175662\",\"0.92601385-1.0@1175657\",\"0.92601385-1.0@1175657\"],\"kortform\":[\"0.0-0.05929495@1175658\",\"0.35710288-0.43779468@1175662\",\"0.35710288-0.43779468@1175662\",\"0.35710288-0.43779468@1175662\",\"0.35710288-0.43779468@1175662\",\"0.27504203-0.35710288@1175662\",\"0.27504203-0.35710288@1175662\",\"0.27504203-0.35710288@1175662\",\"0.27504203-0.35710288@1175662\",\"0.20169356-0.27504203@1175662\",\"0.20169356-0.27504203@1175662\",\"0.20169356-0.27504203@1175662\",\"0.20169356-0.27504203@1175662\",\"0.12177414-0.20169356@1175662\",\"0.12177414-0.20169356@1175662\",\"0.12177414-0.20169356@1175662\",\"0.12177414-0.20169356@1175662\",\"0.0-0.12177414@1175662\",\"0.0-0.12177414@1175662\",\"0.0-0.12177414@1175662\",\"0.0-0.12177414@1175662\",\"0.0-0.12177414@1175662\",\"0.0-0.12177414@1175662\",\"0.93970825-1.0@1175662\",\"0.93970825-1.0@1175662\",\"0.93970825-1.0@1175662\",\"0.92601385-1.0@1175657\",\"0.92601385-1.0@1175657\"],\"xs\":[{\"__ndarray__\":\"hW52UwpiMUEmyk4a1WExQQ==\",\"dtype\":\"float64\",\"shape\":[2]},{\"__ndarray__\":\"6/Fkxw9iMUGRAk7+DWIxQQ==\",\"dtype\":\"float64\",\"shape\":[2]},{\"__ndarray__\":\"kQJO/g1iMUG5entxDGIxQQ==\",\"dtype\":\"float64\",\"shape\":[2]},{\"__ndarray__\":\"uXp7cQxiMUF6w1ZEC2IxQQ==\",\"dtype\":\"float64\",\"shape\":[2]},{\"__ndarray__\":\"esNWRAtiMUGFbnZTCmIxQQ==\",\"dtype\":\"float64\",\"shape\":[2]},{\"__ndarray__\":\"le2V/hliMUF9hoD2FmIxQQ==\",\"dtype\":\"float64\",\"shape\":[2]},{\"__ndarray__\":\"fYaA9hZiMUHH6b9YFGIxQQ==\",\"dtype\":\"float64\",\"shape\":[2]},{\"__ndarray__\":\"x+m/WBRiMUEBskP3EWIxQQ==\",\"dtype\":\"float64\",\"shape\":[2]},{\"__ndarray__\":\"AbJD9xFiMUHr8WTHD2IxQQ==\",\"dtype\":\"float64\",\"shape\":[2]},{\"__ndarray__\":\"+nOHAyViMUFqOZfiIWIxQQ==\",\"dtype\":\"float64\",\"shape\":[2]},{\"__ndarray__\":\"ajmX4iFiMUEiUeTuH2IxQQ==\",\"dtype\":\"float64\",\"shape\":[2]},{\"__ndarray__\":\"IlHk7h9iMUH17CfcHGIxQQ==\",\"dtype\":\"float64\",\"shape\":[2]},{\"__ndarray__\":\"9ewn3BxiMUGV7ZX+GWIxQQ==\",\"dtype\":\"float64\",\"shape\":[2]},{\"__ndarray__\":\"zMTSPTBiMUGUtH3KLWIxQQ==\",\"dtype\":\"float64\",\"shape\":[2]},{\"__ndarray__\":\"lLR9yi1iMUFNVN3FKmIxQQ==\",\"dtype\":\"float64\",\"shape\":[2]},{\"__ndarray__\":\"TVTdxSpiMUEfKvT5J2IxQQ==\",\"dtype\":\"float64\",\"shape\":[2]},{\"__ndarray__\":\"Hyr0+SdiMUH6c4cDJWIxQQ==\",\"dtype\":\"float64\",\"shape\":[2]},{\"__ndarray__\":\"M7EC6DliMUHgHs8WOWIxQQ==\",\"dtype\":\"float64\",\"shape\":[2]},{\"__ndarray__\":\"4B7PFjliMUHZ3KQeOGIxQQ==\",\"dtype\":\"float64\",\"shape\":[2]},{\"__ndarray__\":\"2dykHjhiMUFoa6KRNmIxQQ==\",\"dtype\":\"float64\",\"shape\":[2]},{\"__ndarray__\":\"aGuikTZiMUEshQLTNGIxQQ==\",\"dtype\":\"float64\",\"shape\":[2]},{\"__ndarray__\":\"LIUC0zRiMUEisLS0MmIxQQ==\",\"dtype\":\"float64\",\"shape\":[2]},{\"__ndarray__\":\"IrC0tDJiMUHMxNI9MGIxQQ==\",\"dtype\":\"float64\",\"shape\":[2]},{\"__ndarray__\":\"bUwJ+jliMUE21xJWOmIxQQ==\",\"dtype\":\"float64\",\"shape\":[2]},{\"__ndarray__\":\"NtcSVjpiMUH3reFOOmIxQQ==\",\"dtype\":\"float64\",\"shape\":[2]},{\"__ndarray__\":\"963hTjpiMUEzsQLoOWIxQQ==\",\"dtype\":\"float64\",\"shape\":[2]},{\"__ndarray__\":\"2Ao+nHFiMUFYnkJlSmIxQQ==\",\"dtype\":\"float64\",\"shape\":[2]},{\"__ndarray__\":\"WJ5CZUpiMUFtTAn6OWIxQQ==\",\"dtype\":\"float64\",\"shape\":[2]}],\"ys\":[{\"__ndarray__\":\"oqjbtqdPX0GgWAE5qk9fQQ==\",\"dtype\":\"float64\",\"shape\":[2]},{\"__ndarray__\":\"CjNNcqpPX0H28LngqU9fQQ==\",\"dtype\":\"float64\",\"shape\":[2]},{\"__ndarray__\":\"9vC54KlPX0E5aMMqqU9fQQ==\",\"dtype\":\"float64\",\"shape\":[2]},{\"__ndarray__\":\"OWjDKqlPX0GwKQGDqE9fQQ==\",\"dtype\":\"float64\",\"shape\":[2]},{\"__ndarray__\":\"sCkBg6hPX0GiqNu2p09fQQ==\",\"dtype\":\"float64\",\"shape\":[2]},{\"__ndarray__\":\"4irVMKxPX0Gr7Xnkq09fQQ==\",\"dtype\":\"float64\",\"shape\":[2]},{\"__ndarray__\":\"q+155KtPX0EiAQyBq09fQQ==\",\"dtype\":\"float64\",\"shape\":[2]},{\"__ndarray__\":\"IgEMgatPX0FLxzr5qk9fQQ==\",\"dtype\":\"float64\",\"shape\":[2]},{\"__ndarray__\":\"S8c6+apPX0EKM01yqk9fQQ==\",\"dtype\":\"float64\",\"shape\":[2]},{\"__ndarray__\":\"DMJefKxPX0GceP6GrE9fQQ==\",\"dtype\":\"float64\",\"shape\":[2]},{\"__ndarray__\":\"nHj+hqxPX0HuCIeKrE9fQQ==\",\"dtype\":\"float64\",\"shape\":[2]},{\"__ndarray__\":\"7giHiqxPX0Gwx3JjrE9fQQ==\",\"dtype\":\"float64\",\"shape\":[2]},{\"__ndarray__\":\"sMdyY6xPX0HiKtUwrE9fQQ==\",\"dtype\":\"float64\",\"shape\":[2]},{\"__ndarray__\":\"4u6rXqtPX0FCJdXDq09fQQ==\",\"dtype\":\"float64\",\"shape\":[2]},{\"__ndarray__\":\"QiXVw6tPX0EudOYZrE9fQQ==\",\"dtype\":\"float64\",\"shape\":[2]},{\"__ndarray__\":\"LnTmGaxPX0HeagFYrE9fQQ==\",\"dtype\":\"float64\",\"shape\":[2]},{\"__ndarray__\":\"3moBWKxPX0EMwl58rE9fQQ==\",\"dtype\":\"float64\",\"shape\":[2]},{\"__ndarray__\":\"0X7jiqdPX0HkNHVbqE9fQQ==\",\"dtype\":\"float64\",\"shape\":[2]},{\"__ndarray__\":\"5DR1W6hPX0FUX9wFqU9fQQ==\",\"dtype\":\"float64\",\"shape\":[2]},{\"__ndarray__\":\"VF/cBalPX0G2p5itqU9fQQ==\",\"dtype\":\"float64\",\"shape\":[2]},{\"__ndarray__\":\"tqeYralPX0FeUHFUqk9fQQ==\",\"dtype\":\"float64\",\"shape\":[2]},{\"__ndarray__\":\"XlBxVKpPX0EluxXtqk9fQQ==\",\"dtype\":\"float64\",\"shape\":[2]},{\"__ndarray__\":\"JbsV7apPX0Hi7qteq09fQQ==\",\"dtype\":\"float64\",\"shape\":[2]},{\"__ndarray__\":\"ItM2QKVPX0F1R7EJpk9fQQ==\",\"dtype\":\"float64\",\"shape\":[2]},{\"__ndarray__\":\"dUexCaZPX0GxfmTRpk9fQQ==\",\"dtype\":\"float64\",\"shape\":[2]},{\"__ndarray__\":\"sX5k0aZPX0HRfuOKp09fQQ==\",\"dtype\":\"float64\",\"shape\":[2]},{\"__ndarray__\":\"+rFsW6JPX0Gzf8xfpE9fQQ==\",\"dtype\":\"float64\",\"shape\":[2]},{\"__ndarray__\":\"s3/MX6RPX0Ei0zZApU9fQQ==\",\"dtype\":\"float64\",\"shape\":[2]}]},\"selected\":{\"id\":\"1228\",\"type\":\"Selection\"},\"selection_policy\":{\"id\":\"1251\",\"type\":\"UnionRenderers\"}},\"id\":\"1227\",\"type\":\"ColumnDataSource\"},{\"attributes\":{\"callback\":null,\"end\":8208145.923185524,\"min_interval\":5,\"reset_end\":8208145.923185524,\"reset_start\":8207908.937679898,\"start\":8207908.937679898,\"tags\":[[[\"y\",\"y\",null]]]},\"id\":\"1022\",\"type\":\"Range1d\"},{\"attributes\":{\"code\":\"\\n        var projections = require(\\\"core/util/projections\\\");\\n        var x = special_vars.data_x\\n        var y = special_vars.data_y\\n        var coords = projections.wgs84_mercator.inverse([x, y])\\n        return \\\"\\\" + (coords[1]).toFixed(4)\\n    \"},\"id\":\"1380\",\"type\":\"CustomJSHover\"},{\"attributes\":{\"active_drag\":\"auto\",\"active_inspect\":\"auto\",\"active_multi\":null,\"active_scroll\":{\"id\":\"1052\",\"type\":\"WheelZoomTool\"},\"active_tap\":\"auto\",\"tools\":[{\"id\":\"1025\",\"type\":\"HoverTool\"},{\"id\":\"1028\",\"type\":\"HoverTool\"},{\"id\":\"1051\",\"type\":\"PanTool\"},{\"id\":\"1052\",\"type\":\"WheelZoomTool\"},{\"id\":\"1053\",\"type\":\"BoxZoomTool\"},{\"id\":\"1054\",\"type\":\"ResetTool\"}]},\"id\":\"1055\",\"type\":\"Toolbar\"},{\"attributes\":{\"axis_label\":\"y\",\"bounds\":\"auto\",\"formatter\":{\"id\":\"1068\",\"type\":\"MercatorTickFormatter\"},\"major_label_orientation\":\"horizontal\",\"ticker\":{\"id\":\"1067\",\"type\":\"MercatorTicker\"}},\"id\":\"1045\",\"type\":\"LinearAxis\"},{\"attributes\":{\"tile_source\":{\"id\":\"1353\",\"type\":\"WMTSTileSource\"}},\"id\":\"1356\",\"type\":\"TileRenderer\"},{\"attributes\":{\"data_source\":{\"id\":\"1093\",\"type\":\"ColumnDataSource\"},\"glyph\":{\"id\":\"1096\",\"type\":\"MultiLine\"},\"hover_glyph\":null,\"muted_glyph\":{\"id\":\"1098\",\"type\":\"MultiLine\"},\"nonselection_glyph\":{\"id\":\"1097\",\"type\":\"MultiLine\"},\"selection_glyph\":null,\"view\":{\"id\":\"1100\",\"type\":\"CDSView\"}},\"id\":\"1099\",\"type\":\"GlyphRenderer\"},{\"attributes\":{\"dimension\":\"lon\"},\"id\":\"1065\",\"type\":\"MercatorTicker\"},{\"attributes\":{\"fill_alpha\":{\"value\":0.2},\"fill_color\":{\"value\":\"#007f00\"},\"line_alpha\":{\"value\":0.2},\"line_color\":{\"value\":\"#007f00\"},\"size\":{\"units\":\"screen\",\"value\":10.0},\"x\":{\"field\":\"Longitude\"},\"y\":{\"field\":\"Latitude\"}},\"id\":\"1376\",\"type\":\"Scatter\"},{\"attributes\":{\"axis_label\":\"x\",\"bounds\":\"auto\",\"formatter\":{\"id\":\"1066\",\"type\":\"MercatorTickFormatter\"},\"major_label_orientation\":\"horizontal\",\"ticker\":{\"id\":\"1065\",\"type\":\"MercatorTicker\"}},\"id\":\"1040\",\"type\":\"LinearAxis\"},{\"attributes\":{},\"id\":\"1238\",\"type\":\"Selection\"},{\"attributes\":{\"grid_line_color\":null,\"ticker\":{\"id\":\"1041\",\"type\":\"BasicTicker\"}},\"id\":\"1044\",\"type\":\"Grid\"},{\"attributes\":{\"bottom_units\":\"screen\",\"fill_alpha\":{\"value\":0.5},\"fill_color\":{\"value\":\"lightgrey\"},\"left_units\":\"screen\",\"level\":\"overlay\",\"line_alpha\":{\"value\":1.0},\"line_color\":{\"value\":\"black\"},\"line_dash\":[4,4],\"line_width\":{\"value\":2},\"render_mode\":\"css\",\"right_units\":\"screen\",\"top_units\":\"screen\"},\"id\":\"1216\",\"type\":\"BoxAnnotation\"},{\"attributes\":{},\"id\":\"1046\",\"type\":\"BasicTicker\"},{\"attributes\":{\"children\":[[{\"id\":\"1031\",\"subtype\":\"Figure\",\"type\":\"Plot\"},0,0],[{\"id\":\"1165\",\"subtype\":\"Figure\",\"type\":\"Plot\"},0,1],[{\"id\":\"1299\",\"subtype\":\"Figure\",\"type\":\"Plot\"},0,2]]},\"id\":\"1446\",\"type\":\"GridBox\"},{\"attributes\":{\"callback\":null,\"data\":{\"Latitude\":{\"__ndarray__\":\"orS9JKtPX0FR9/AUo09fQQ==\",\"dtype\":\"float64\",\"shape\":[2]},\"Longitude\":{\"__ndarray__\":\"sf11ytVhMUEfG142cmIxQQ==\",\"dtype\":\"float64\",\"shape\":[2]}},\"selected\":{\"id\":\"1372\",\"type\":\"Selection\"},\"selection_policy\":{\"id\":\"1387\",\"type\":\"UnionRenderers\"}},\"id\":\"1371\",\"type\":\"ColumnDataSource\"},{\"attributes\":{\"tile_source\":{\"id\":\"1085\",\"type\":\"WMTSTileSource\"}},\"id\":\"1088\",\"type\":\"TileRenderer\"},{\"attributes\":{\"factors\":[\"0.0-0.05929533@1175658\",\"0.43779468-0.93970825@1175662\",\"0.92601386-1.0@1175657\",\"0.0-0.05929495@1175658\",\"0.35710288-0.43779468@1175662\",\"0.27504203-0.35710288@1175662\",\"0.20169356-0.27504203@1175662\",\"0.12177414-0.20169356@1175662\",\"0.0-0.12177414@1175662\",\"0.93970825-1.0@1175662\",\"0.92601385-1.0@1175657\",\"0.0-0.06260388@1176155\",\"0.41080731-1.0@1176154\"],\"palette\":[\"#1f77b4\",\"#ff7f0e\",\"#2ca02c\",\"#d62728\",\"#9467bd\",\"#8c564b\",\"#e377c2\",\"#7f7f7f\",\"#bcbd22\",\"#17becf\",\"#1f77b4\",\"#ff7f0e\",\"#2ca02c\"]},\"id\":\"1360\",\"type\":\"CategoricalColorMapper\"},{\"attributes\":{\"tools\":[{\"id\":\"1025\",\"type\":\"HoverTool\"},{\"id\":\"1028\",\"type\":\"HoverTool\"},{\"id\":\"1051\",\"type\":\"PanTool\"},{\"id\":\"1052\",\"type\":\"WheelZoomTool\"},{\"id\":\"1053\",\"type\":\"BoxZoomTool\"},{\"id\":\"1054\",\"type\":\"ResetTool\"},{\"id\":\"1159\",\"type\":\"HoverTool\"},{\"id\":\"1162\",\"type\":\"HoverTool\"},{\"id\":\"1185\",\"type\":\"PanTool\"},{\"id\":\"1186\",\"type\":\"WheelZoomTool\"},{\"id\":\"1187\",\"type\":\"BoxZoomTool\"},{\"id\":\"1188\",\"type\":\"ResetTool\"},{\"id\":\"1293\",\"type\":\"HoverTool\"},{\"id\":\"1296\",\"type\":\"HoverTool\"},{\"id\":\"1319\",\"type\":\"PanTool\"},{\"id\":\"1320\",\"type\":\"WheelZoomTool\"},{\"id\":\"1321\",\"type\":\"BoxZoomTool\"},{\"id\":\"1322\",\"type\":\"ResetTool\"}]},\"id\":\"1447\",\"type\":\"ProxyToolbar\"},{\"attributes\":{\"align\":null,\"below\":[{\"id\":\"1174\",\"type\":\"LinearAxis\"}],\"center\":[{\"id\":\"1178\",\"type\":\"Grid\"},{\"id\":\"1183\",\"type\":\"Grid\"}],\"frame_height\":600,\"frame_width\":400,\"left\":[{\"id\":\"1179\",\"type\":\"LinearAxis\"}],\"margin\":null,\"match_aspect\":true,\"min_border_bottom\":10,\"min_border_left\":10,\"min_border_right\":10,\"min_border_top\":10,\"plot_width\":400,\"renderers\":[{\"id\":\"1222\",\"type\":\"TileRenderer\"},{\"id\":\"1233\",\"type\":\"GlyphRenderer\"},{\"id\":\"1243\",\"type\":\"GlyphRenderer\"}],\"sizing_mode\":\"fixed\",\"title\":{\"id\":\"1166\",\"type\":\"Title\"},\"toolbar\":{\"id\":\"1189\",\"type\":\"Toolbar\"},\"toolbar_location\":null,\"x_range\":{\"id\":\"1021\",\"type\":\"Range1d\"},\"x_scale\":{\"id\":\"1170\",\"type\":\"LinearScale\"},\"y_range\":{\"id\":\"1022\",\"type\":\"Range1d\"},\"y_scale\":{\"id\":\"1172\",\"type\":\"LinearScale\"}},\"id\":\"1165\",\"subtype\":\"Figure\",\"type\":\"Plot\"},{\"attributes\":{\"fill_alpha\":{\"value\":0.1},\"fill_color\":{\"value\":\"#007f00\"},\"line_alpha\":{\"value\":0.1},\"line_color\":{\"value\":\"#007f00\"},\"size\":{\"units\":\"screen\",\"value\":10.0},\"x\":{\"field\":\"Longitude\"},\"y\":{\"field\":\"Latitude\"}},\"id\":\"1375\",\"type\":\"Scatter\"},{\"attributes\":{},\"id\":\"1038\",\"type\":\"LinearScale\"},{\"attributes\":{},\"id\":\"1036\",\"type\":\"LinearScale\"},{\"attributes\":{\"tile_source\":{\"id\":\"1219\",\"type\":\"WMTSTileSource\"}},\"id\":\"1222\",\"type\":\"TileRenderer\"},{\"attributes\":{\"source\":{\"id\":\"1361\",\"type\":\"ColumnDataSource\"}},\"id\":\"1368\",\"type\":\"CDSView\"},{\"attributes\":{\"line_color\":{\"field\":\"color\",\"transform\":{\"id\":\"1360\",\"type\":\"CategoricalColorMapper\"}},\"line_width\":{\"value\":10},\"xs\":{\"field\":\"xs\"},\"ys\":{\"field\":\"ys\"}},\"id\":\"1364\",\"type\":\"MultiLine\"},{\"attributes\":{},\"id\":\"1094\",\"type\":\"Selection\"},{\"attributes\":{\"data_source\":{\"id\":\"1361\",\"type\":\"ColumnDataSource\"},\"glyph\":{\"id\":\"1364\",\"type\":\"MultiLine\"},\"hover_glyph\":null,\"muted_glyph\":{\"id\":\"1366\",\"type\":\"MultiLine\"},\"nonselection_glyph\":{\"id\":\"1365\",\"type\":\"MultiLine\"},\"selection_glyph\":null,\"view\":{\"id\":\"1368\",\"type\":\"CDSView\"}},\"id\":\"1367\",\"type\":\"GlyphRenderer\"},{\"attributes\":{},\"id\":\"1362\",\"type\":\"Selection\"},{\"attributes\":{},\"id\":\"1372\",\"type\":\"Selection\"},{\"attributes\":{\"callback\":null,\"data\":{\"color\":[\"0.0-0.05929533@1175658\",\"0.43779468-0.93970825@1175662\",\"0.43779468-0.93970825@1175662\",\"0.43779468-0.93970825@1175662\",\"0.43779468-0.93970825@1175662\",\"0.43779468-0.93970825@1175662\",\"0.43779468-0.93970825@1175662\",\"0.43779468-0.93970825@1175662\",\"0.43779468-0.93970825@1175662\",\"0.43779468-0.93970825@1175662\",\"0.43779468-0.93970825@1175662\",\"0.43779468-0.93970825@1175662\",\"0.43779468-0.93970825@1175662\",\"0.43779468-0.93970825@1175662\",\"0.43779468-0.93970825@1175662\",\"0.43779468-0.93970825@1175662\",\"0.43779468-0.93970825@1175662\",\"0.43779468-0.93970825@1175662\",\"0.43779468-0.93970825@1175662\",\"0.43779468-0.93970825@1175662\",\"0.43779468-0.93970825@1175662\",\"0.43779468-0.93970825@1175662\",\"0.43779468-0.93970825@1175662\",\"0.43779468-0.93970825@1175662\",\"0.43779468-0.93970825@1175662\",\"0.43779468-0.93970825@1175662\",\"0.43779468-0.93970825@1175662\",\"0.43779468-0.93970825@1175662\",\"0.43779468-0.93970825@1175662\",\"0.43779468-0.93970825@1175662\",\"0.43779468-0.93970825@1175662\",\"0.92601386-1.0@1175657\",\"0.92601386-1.0@1175657\"],\"kortform\":[\"0.0-0.05929533@1175658\",\"0.43779468-0.93970825@1175662\",\"0.43779468-0.93970825@1175662\",\"0.43779468-0.93970825@1175662\",\"0.43779468-0.93970825@1175662\",\"0.43779468-0.93970825@1175662\",\"0.43779468-0.93970825@1175662\",\"0.43779468-0.93970825@1175662\",\"0.43779468-0.93970825@1175662\",\"0.43779468-0.93970825@1175662\",\"0.43779468-0.93970825@1175662\",\"0.43779468-0.93970825@1175662\",\"0.43779468-0.93970825@1175662\",\"0.43779468-0.93970825@1175662\",\"0.43779468-0.93970825@1175662\",\"0.43779468-0.93970825@1175662\",\"0.43779468-0.93970825@1175662\",\"0.43779468-0.93970825@1175662\",\"0.43779468-0.93970825@1175662\",\"0.43779468-0.93970825@1175662\",\"0.43779468-0.93970825@1175662\",\"0.43779468-0.93970825@1175662\",\"0.43779468-0.93970825@1175662\",\"0.43779468-0.93970825@1175662\",\"0.43779468-0.93970825@1175662\",\"0.43779468-0.93970825@1175662\",\"0.43779468-0.93970825@1175662\",\"0.43779468-0.93970825@1175662\",\"0.43779468-0.93970825@1175662\",\"0.43779468-0.93970825@1175662\",\"0.43779468-0.93970825@1175662\",\"0.92601386-1.0@1175657\",\"0.92601386-1.0@1175657\"],\"xs\":[{\"__ndarray__\":\"hW52UwpiMUEdyFwZ1WExQQ==\",\"dtype\":\"float64\",\"shape\":[2]},{\"__ndarray__\":\"hW52UwpiMUEzOOHzCWIxQQ==\",\"dtype\":\"float64\",\"shape\":[2]},{\"__ndarray__\":\"Mzjh8wliMUERXXbJCWIxQQ==\",\"dtype\":\"float64\",\"shape\":[2]},{\"__ndarray__\":\"EV12yQliMUEDi+MzCmIxQQ==\",\"dtype\":\"float64\",\"shape\":[2]},{\"__ndarray__\":\"A4vjMwpiMUFGDGHMCmIxQQ==\",\"dtype\":\"float64\",\"shape\":[2]},{\"__ndarray__\":\"RgxhzApiMUFGDGHMCmIxQQ==\",\"dtype\":\"float64\",\"shape\":[2]},{\"__ndarray__\":\"RgxhzApiMUEEMBnIC2IxQQ==\",\"dtype\":\"float64\",\"shape\":[2]},{\"__ndarray__\":\"BDAZyAtiMUEVQ6lYDWIxQQ==\",\"dtype\":\"float64\",\"shape\":[2]},{\"__ndarray__\":\"FUOpWA1iMUHZn7wTD2IxQQ==\",\"dtype\":\"float64\",\"shape\":[2]},{\"__ndarray__\":\"2Z+8Ew9iMUHbO20AEWIxQQ==\",\"dtype\":\"float64\",\"shape\":[2]},{\"__ndarray__\":\"2zttABFiMUHKxdt6E2IxQQ==\",\"dtype\":\"float64\",\"shape\":[2]},{\"__ndarray__\":\"ysXbehNiMUHh3abxFWIxQQ==\",\"dtype\":\"float64\",\"shape\":[2]},{\"__ndarray__\":\"4d2m8RViMUGIQr3xFWIxQQ==\",\"dtype\":\"float64\",\"shape\":[2]},{\"__ndarray__\":\"iEK98RViMUHvaTLBGGIxQQ==\",\"dtype\":\"float64\",\"shape\":[2]},{\"__ndarray__\":\"72kywRhiMUErjhqNG2IxQQ==\",\"dtype\":\"float64\",\"shape\":[2]},{\"__ndarray__\":\"K44ajRtiMUHYUrC4HmIxQQ==\",\"dtype\":\"float64\",\"shape\":[2]},{\"__ndarray__\":\"2FKwuB5iMUHYUrC4HmIxQQ==\",\"dtype\":\"float64\",\"shape\":[2]},{\"__ndarray__\":\"2FKwuB5iMUF85wGoIWIxQQ==\",\"dtype\":\"float64\",\"shape\":[2]},{\"__ndarray__\":\"fOcBqCFiMUHY6NbBJGIxQQ==\",\"dtype\":\"float64\",\"shape\":[2]},{\"__ndarray__\":\"2OjWwSRiMUGE/h7YJ2IxQQ==\",\"dtype\":\"float64\",\"shape\":[2]},{\"__ndarray__\":\"hP4e2CdiMUEt/yKyKmIxQQ==\",\"dtype\":\"float64\",\"shape\":[2]},{\"__ndarray__\":\"Lf8isipiMUEt/yKyKmIxQQ==\",\"dtype\":\"float64\",\"shape\":[2]},{\"__ndarray__\":\"Lf8isipiMUEEIJqILWIxQQ==\",\"dtype\":\"float64\",\"shape\":[2]},{\"__ndarray__\":\"BCCaiC1iMUE+Os0iMGIxQQ==\",\"dtype\":\"float64\",\"shape\":[2]},{\"__ndarray__\":\"PjrNIjBiMUHQFWOLMmIxQQ==\",\"dtype\":\"float64\",\"shape\":[2]},{\"__ndarray__\":\"0BVjizJiMUHv8bS3NGIxQQ==\",\"dtype\":\"float64\",\"shape\":[2]},{\"__ndarray__\":\"7/G0tzRiMUHv8bS3NGIxQQ==\",\"dtype\":\"float64\",\"shape\":[2]},{\"__ndarray__\":\"7/G0tzRiMUHqTz99NmIxQQ==\",\"dtype\":\"float64\",\"shape\":[2]},{\"__ndarray__\":\"6k8/fTZiMUHtKgLcN2IxQQ==\",\"dtype\":\"float64\",\"shape\":[2]},{\"__ndarray__\":\"7SoC3DdiMUHF7A0COWIxQQ==\",\"dtype\":\"float64\",\"shape\":[2]},{\"__ndarray__\":\"xewNAjliMUFtTAn6OWIxQQ==\",\"dtype\":\"float64\",\"shape\":[2]},{\"__ndarray__\":\"Go8UnnFiMUFYnkJlSmIxQQ==\",\"dtype\":\"float64\",\"shape\":[2]},{\"__ndarray__\":\"WJ5CZUpiMUGEVQv6OWIxQQ==\",\"dtype\":\"float64\",\"shape\":[2]}],\"ys\":[{\"__ndarray__\":\"oqjbtqdPX0F6Rgs5qk9fQQ==\",\"dtype\":\"float64\",\"shape\":[2]},{\"__ndarray__\":\"oqjbtqdPX0HnGc75pk9fQQ==\",\"dtype\":\"float64\",\"shape\":[2]},{\"__ndarray__\":\"5xnO+aZPX0HfPTcxpk9fQQ==\",\"dtype\":\"float64\",\"shape\":[2]},{\"__ndarray__\":\"3z03MaZPX0EXW0trpU9fQQ==\",\"dtype\":\"float64\",\"shape\":[2]},{\"__ndarray__\":\"F1tLa6VPX0EOHLCypE9fQQ==\",\"dtype\":\"float64\",\"shape\":[2]},{\"__ndarray__\":\"DhywsqRPX0EOHLCypE9fQQ==\",\"dtype\":\"float64\",\"shape\":[2]},{\"__ndarray__\":\"DhywsqRPX0EXLtz7o09fQQ==\",\"dtype\":\"float64\",\"shape\":[2]},{\"__ndarray__\":\"Fy7c+6NPX0F5NrNHo09fQQ==\",\"dtype\":\"float64\",\"shape\":[2]},{\"__ndarray__\":\"eTazR6NPX0Ew1ketok9fQQ==\",\"dtype\":\"float64\",\"shape\":[2]},{\"__ndarray__\":\"MNZHraJPX0EFHcATok9fQQ==\",\"dtype\":\"float64\",\"shape\":[2]},{\"__ndarray__\":\"BR3AE6JPX0GdQr2VoU9fQQ==\",\"dtype\":\"float64\",\"shape\":[2]},{\"__ndarray__\":\"nUK9laFPX0GZZSskoU9fQQ==\",\"dtype\":\"float64\",\"shape\":[2]},{\"__ndarray__\":\"mWUrJKFPX0F1XSckoU9fQQ==\",\"dtype\":\"float64\",\"shape\":[2]},{\"__ndarray__\":\"dV0nJKFPX0Gpo5/ZoE9fQQ==\",\"dtype\":\"float64\",\"shape\":[2]},{\"__ndarray__\":\"qaOf2aBPX0GJ3ISboE9fQQ==\",\"dtype\":\"float64\",\"shape\":[2]},{\"__ndarray__\":\"idyEm6BPX0ERUJ5roE9fQQ==\",\"dtype\":\"float64\",\"shape\":[2]},{\"__ndarray__\":\"EVCea6BPX0ERUJ5roE9fQQ==\",\"dtype\":\"float64\",\"shape\":[2]},{\"__ndarray__\":\"EVCea6BPX0G9/RpgoE9fQQ==\",\"dtype\":\"float64\",\"shape\":[2]},{\"__ndarray__\":\"vf0aYKBPX0HzNlVuoE9fQQ==\",\"dtype\":\"float64\",\"shape\":[2]},{\"__ndarray__\":\"8zZVbqBPX0FjYfyIoE9fQQ==\",\"dtype\":\"float64\",\"shape\":[2]},{\"__ndarray__\":\"Y2H8iKBPX0HsxwbIoE9fQQ==\",\"dtype\":\"float64\",\"shape\":[2]},{\"__ndarray__\":\"7McGyKBPX0HsxwbIoE9fQQ==\",\"dtype\":\"float64\",\"shape\":[2]},{\"__ndarray__\":\"7McGyKBPX0FlIX4ToU9fQQ==\",\"dtype\":\"float64\",\"shape\":[2]},{\"__ndarray__\":\"ZSF+E6FPX0E+uliDoU9fQQ==\",\"dtype\":\"float64\",\"shape\":[2]},{\"__ndarray__\":\"PrpYg6FPX0Err0/yoU9fQQ==\",\"dtype\":\"float64\",\"shape\":[2]},{\"__ndarray__\":\"K69P8qFPX0GY56mFok9fQQ==\",\"dtype\":\"float64\",\"shape\":[2]},{\"__ndarray__\":\"mOephaJPX0GY56mFok9fQQ==\",\"dtype\":\"float64\",\"shape\":[2]},{\"__ndarray__\":\"mOephaJPX0FB1akjo09fQQ==\",\"dtype\":\"float64\",\"shape\":[2]},{\"__ndarray__\":\"QdWpI6NPX0EGek/Mo09fQQ==\",\"dtype\":\"float64\",\"shape\":[2]},{\"__ndarray__\":\"BnpPzKNPX0FxceuMpE9fQQ==\",\"dtype\":\"float64\",\"shape\":[2]},{\"__ndarray__\":\"cXHrjKRPX0Ei0zZApU9fQQ==\",\"dtype\":\"float64\",\"shape\":[2]},{\"__ndarray__\":\"y4FEW6JPX0Gzf8xfpE9fQQ==\",\"dtype\":\"float64\",\"shape\":[2]},{\"__ndarray__\":\"s3/MX6RPX0FUtzZApU9fQQ==\",\"dtype\":\"float64\",\"shape\":[2]}]},\"selected\":{\"id\":\"1094\",\"type\":\"Selection\"},\"selection_policy\":{\"id\":\"1117\",\"type\":\"UnionRenderers\"}},\"id\":\"1093\",\"type\":\"ColumnDataSource\"},{\"attributes\":{\"callback\":null,\"data\":{\"Latitude\":{\"__ndarray__\":\"orS9JKtPX0FR9/AUo09fQQ==\",\"dtype\":\"float64\",\"shape\":[2]},\"Longitude\":{\"__ndarray__\":\"sf11ytVhMUEfG142cmIxQQ==\",\"dtype\":\"float64\",\"shape\":[2]}},\"selected\":{\"id\":\"1238\",\"type\":\"Selection\"},\"selection_policy\":{\"id\":\"1253\",\"type\":\"UnionRenderers\"}},\"id\":\"1237\",\"type\":\"ColumnDataSource\"},{\"attributes\":{\"line_alpha\":{\"value\":0.2},\"line_color\":{\"field\":\"color\",\"transform\":{\"id\":\"1360\",\"type\":\"CategoricalColorMapper\"}},\"line_width\":{\"value\":10},\"xs\":{\"field\":\"xs\"},\"ys\":{\"field\":\"ys\"}},\"id\":\"1366\",\"type\":\"MultiLine\"},{\"attributes\":{\"line_alpha\":{\"value\":0.1},\"line_color\":{\"field\":\"color\",\"transform\":{\"id\":\"1360\",\"type\":\"CategoricalColorMapper\"}},\"line_width\":{\"value\":10},\"xs\":{\"field\":\"xs\"},\"ys\":{\"field\":\"ys\"}},\"id\":\"1365\",\"type\":\"MultiLine\"},{\"attributes\":{\"text\":\"Visveginfo\",\"text_color\":{\"value\":\"black\"},\"text_font_size\":{\"value\":\"12pt\"}},\"id\":\"1032\",\"type\":\"Title\"},{\"attributes\":{\"line_color\":{\"field\":\"color\",\"transform\":{\"id\":\"1226\",\"type\":\"CategoricalColorMapper\"}},\"line_width\":{\"value\":10},\"xs\":{\"field\":\"xs\"},\"ys\":{\"field\":\"ys\"}},\"id\":\"1230\",\"type\":\"MultiLine\"},{\"attributes\":{\"text\":\"NVDB vegtras\\u00e9\",\"text_color\":{\"value\":\"black\"},\"text_font_size\":{\"value\":\"12pt\"}},\"id\":\"1166\",\"type\":\"Title\"},{\"attributes\":{\"fill_color\":{\"value\":\"#007f00\"},\"line_color\":{\"value\":\"#007f00\"},\"size\":{\"units\":\"screen\",\"value\":10.0},\"x\":{\"field\":\"Longitude\"},\"y\":{\"field\":\"Latitude\"}},\"id\":\"1240\",\"type\":\"Scatter\"},{\"attributes\":{},\"id\":\"1251\",\"type\":\"UnionRenderers\"},{\"attributes\":{},\"id\":\"1314\",\"type\":\"BasicTicker\"},{\"attributes\":{\"code\":\"\\n        var projections = require(\\\"core/util/projections\\\");\\n        var x = special_vars.data_x\\n        var y = special_vars.data_y\\n        var coords = projections.wgs84_mercator.inverse([x, y])\\n        return \\\"\\\" + (coords[1]).toFixed(4)\\n    \"},\"id\":\"1246\",\"type\":\"CustomJSHover\"},{\"attributes\":{\"attribution\":\"&copy; <a href=\\\"https://www.openstreetmap.org/copyright\\\">OpenStreetMap</a> contributors\",\"url\":\"http://c.tile.openstreetmap.org/{Z}/{X}/{Y}.png\"},\"id\":\"1219\",\"type\":\"WMTSTileSource\"},{\"attributes\":{\"fill_color\":{\"value\":\"#007f00\"},\"line_color\":{\"value\":\"#007f00\"},\"size\":{\"units\":\"screen\",\"value\":10.0},\"x\":{\"field\":\"Longitude\"},\"y\":{\"field\":\"Latitude\"}},\"id\":\"1106\",\"type\":\"Scatter\"},{\"attributes\":{\"toolbar\":{\"id\":\"1447\",\"type\":\"ProxyToolbar\"},\"toolbar_location\":\"above\"},\"id\":\"1448\",\"type\":\"ToolbarBox\"},{\"attributes\":{\"callback\":null,\"renderers\":[{\"id\":\"1233\",\"type\":\"GlyphRenderer\"}],\"tags\":[\"hv_created\"],\"tooltips\":[[\"kortform\",\"@{kortform}\"]]},\"id\":\"1159\",\"type\":\"HoverTool\"},{\"attributes\":{\"attribution\":\"&copy; <a href=\\\"https://www.openstreetmap.org/copyright\\\">OpenStreetMap</a> contributors\",\"url\":\"http://c.tile.openstreetmap.org/{Z}/{X}/{Y}.png\"},\"id\":\"1353\",\"type\":\"WMTSTileSource\"},{\"attributes\":{},\"id\":\"1304\",\"type\":\"LinearScale\"},{\"attributes\":{\"source\":{\"id\":\"1103\",\"type\":\"ColumnDataSource\"}},\"id\":\"1110\",\"type\":\"CDSView\"},{\"attributes\":{\"source\":{\"id\":\"1227\",\"type\":\"ColumnDataSource\"}},\"id\":\"1234\",\"type\":\"CDSView\"},{\"attributes\":{\"fill_alpha\":{\"value\":0.1},\"fill_color\":{\"value\":\"#007f00\"},\"line_alpha\":{\"value\":0.1},\"line_color\":{\"value\":\"#007f00\"},\"size\":{\"units\":\"screen\",\"value\":10.0},\"x\":{\"field\":\"Longitude\"},\"y\":{\"field\":\"Latitude\"}},\"id\":\"1241\",\"type\":\"Scatter\"},{\"attributes\":{\"callback\":null,\"formatters\":{\"Latitude\":{\"id\":\"1246\",\"type\":\"CustomJSHover\"},\"Longitude\":{\"id\":\"1245\",\"type\":\"CustomJSHover\"}},\"renderers\":[{\"id\":\"1243\",\"type\":\"GlyphRenderer\"}],\"tags\":[\"hv_created\"],\"tooltips\":[[\"Longitude\",\"@{Longitude}{custom}\"],[\"Latitude\",\"@{Latitude}{custom}\"]]},\"id\":\"1162\",\"type\":\"HoverTool\"},{\"attributes\":{\"active_drag\":\"auto\",\"active_inspect\":\"auto\",\"active_multi\":null,\"active_scroll\":{\"id\":\"1320\",\"type\":\"WheelZoomTool\"},\"active_tap\":\"auto\",\"tools\":[{\"id\":\"1293\",\"type\":\"HoverTool\"},{\"id\":\"1296\",\"type\":\"HoverTool\"},{\"id\":\"1319\",\"type\":\"PanTool\"},{\"id\":\"1320\",\"type\":\"WheelZoomTool\"},{\"id\":\"1321\",\"type\":\"BoxZoomTool\"},{\"id\":\"1322\",\"type\":\"ResetTool\"}]},\"id\":\"1323\",\"type\":\"Toolbar\"},{\"attributes\":{\"source\":{\"id\":\"1237\",\"type\":\"ColumnDataSource\"}},\"id\":\"1244\",\"type\":\"CDSView\"},{\"attributes\":{},\"id\":\"1253\",\"type\":\"UnionRenderers\"},{\"attributes\":{\"fill_alpha\":{\"value\":0.1},\"fill_color\":{\"value\":\"#007f00\"},\"line_alpha\":{\"value\":0.1},\"line_color\":{\"value\":\"#007f00\"},\"size\":{\"units\":\"screen\",\"value\":10.0},\"x\":{\"field\":\"Longitude\"},\"y\":{\"field\":\"Latitude\"}},\"id\":\"1107\",\"type\":\"Scatter\"},{\"attributes\":{\"fill_alpha\":{\"value\":0.2},\"fill_color\":{\"value\":\"#007f00\"},\"line_alpha\":{\"value\":0.2},\"line_color\":{\"value\":\"#007f00\"},\"size\":{\"units\":\"screen\",\"value\":10.0},\"x\":{\"field\":\"Longitude\"},\"y\":{\"field\":\"Latitude\"}},\"id\":\"1242\",\"type\":\"Scatter\"},{\"attributes\":{\"data_source\":{\"id\":\"1237\",\"type\":\"ColumnDataSource\"},\"glyph\":{\"id\":\"1240\",\"type\":\"Scatter\"},\"hover_glyph\":null,\"muted_glyph\":{\"id\":\"1242\",\"type\":\"Scatter\"},\"nonselection_glyph\":{\"id\":\"1241\",\"type\":\"Scatter\"},\"selection_glyph\":null,\"view\":{\"id\":\"1244\",\"type\":\"CDSView\"}},\"id\":\"1243\",\"type\":\"GlyphRenderer\"},{\"attributes\":{\"grid_line_color\":null,\"ticker\":{\"id\":\"1309\",\"type\":\"BasicTicker\"}},\"id\":\"1312\",\"type\":\"Grid\"},{\"attributes\":{\"code\":\"\\n        var projections = require(\\\"core/util/projections\\\");\\n        var x = special_vars.data_x\\n        var y = special_vars.data_y\\n        var coords = projections.wgs84_mercator.inverse([x, y])\\n        return \\\"\\\" + (coords[0]).toFixed(4)\\n    \"},\"id\":\"1245\",\"type\":\"CustomJSHover\"},{\"attributes\":{\"zoom_on_axis\":false},\"id\":\"1320\",\"type\":\"WheelZoomTool\"},{\"attributes\":{\"line_alpha\":{\"value\":0.2},\"line_color\":{\"field\":\"color\",\"transform\":{\"id\":\"1226\",\"type\":\"CategoricalColorMapper\"}},\"line_width\":{\"value\":10},\"xs\":{\"field\":\"xs\"},\"ys\":{\"field\":\"ys\"}},\"id\":\"1232\",\"type\":\"MultiLine\"},{\"attributes\":{},\"id\":\"1309\",\"type\":\"BasicTicker\"},{\"attributes\":{\"axis_label\":\"y\",\"bounds\":\"auto\",\"formatter\":{\"id\":\"1336\",\"type\":\"MercatorTickFormatter\"},\"major_label_orientation\":\"horizontal\",\"ticker\":{\"id\":\"1335\",\"type\":\"MercatorTicker\"}},\"id\":\"1313\",\"type\":\"LinearAxis\"},{\"attributes\":{},\"id\":\"1385\",\"type\":\"UnionRenderers\"},{\"attributes\":{\"code\":\"\\n        var projections = require(\\\"core/util/projections\\\");\\n        var x = special_vars.data_x\\n        var y = special_vars.data_y\\n        var coords = projections.wgs84_mercator.inverse([x, y])\\n        return \\\"\\\" + (coords[0]).toFixed(4)\\n    \"},\"id\":\"1111\",\"type\":\"CustomJSHover\"},{\"attributes\":{\"source\":{\"id\":\"1371\",\"type\":\"ColumnDataSource\"}},\"id\":\"1378\",\"type\":\"CDSView\"},{\"attributes\":{\"dimension\":\"lon\"},\"id\":\"1333\",\"type\":\"MercatorTicker\"},{\"attributes\":{},\"id\":\"1104\",\"type\":\"Selection\"},{\"attributes\":{\"axis_label\":\"x\",\"bounds\":\"auto\",\"formatter\":{\"id\":\"1334\",\"type\":\"MercatorTickFormatter\"},\"major_label_orientation\":\"horizontal\",\"ticker\":{\"id\":\"1333\",\"type\":\"MercatorTicker\"}},\"id\":\"1308\",\"type\":\"LinearAxis\"},{\"attributes\":{\"data_source\":{\"id\":\"1371\",\"type\":\"ColumnDataSource\"},\"glyph\":{\"id\":\"1374\",\"type\":\"Scatter\"},\"hover_glyph\":null,\"muted_glyph\":{\"id\":\"1376\",\"type\":\"Scatter\"},\"nonselection_glyph\":{\"id\":\"1375\",\"type\":\"Scatter\"},\"selection_glyph\":null,\"view\":{\"id\":\"1378\",\"type\":\"CDSView\"}},\"id\":\"1377\",\"type\":\"GlyphRenderer\"},{\"attributes\":{\"axis_label\":\"y\",\"bounds\":\"auto\",\"formatter\":{\"id\":\"1202\",\"type\":\"MercatorTickFormatter\"},\"major_label_orientation\":\"horizontal\",\"ticker\":{\"id\":\"1201\",\"type\":\"MercatorTicker\"}},\"id\":\"1179\",\"type\":\"LinearAxis\"},{\"attributes\":{\"text\":\"NVDB detaljerte lenker\",\"text_color\":{\"value\":\"black\"},\"text_font_size\":{\"value\":\"12pt\"}},\"id\":\"1300\",\"type\":\"Title\"},{\"attributes\":{\"line_alpha\":{\"value\":0.1},\"line_color\":{\"field\":\"color\",\"transform\":{\"id\":\"1226\",\"type\":\"CategoricalColorMapper\"}},\"line_width\":{\"value\":10},\"xs\":{\"field\":\"xs\"},\"ys\":{\"field\":\"ys\"}},\"id\":\"1231\",\"type\":\"MultiLine\"},{\"attributes\":{},\"id\":\"1322\",\"type\":\"ResetTool\"},{\"attributes\":{\"dimension\":1,\"grid_line_color\":null,\"ticker\":{\"id\":\"1314\",\"type\":\"BasicTicker\"}},\"id\":\"1317\",\"type\":\"Grid\"},{\"attributes\":{},\"id\":\"1228\",\"type\":\"Selection\"},{\"attributes\":{\"callback\":null,\"end\":1139314.6132637702,\"min_interval\":5,\"reset_end\":1139314.6132637702,\"reset_start\":1139156.6229266864,\"start\":1139156.6229266864,\"tags\":[[[\"x\",\"x\",null]]]},\"id\":\"1021\",\"type\":\"Range1d\"},{\"attributes\":{\"match_aspect\":true,\"overlay\":{\"id\":\"1350\",\"type\":\"BoxAnnotation\"}},\"id\":\"1321\",\"type\":\"BoxZoomTool\"},{\"attributes\":{\"callback\":null,\"renderers\":[{\"id\":\"1367\",\"type\":\"GlyphRenderer\"}],\"tags\":[\"hv_created\"],\"tooltips\":[[\"kortform\",\"@{kortform}\"]]},\"id\":\"1293\",\"type\":\"HoverTool\"},{\"attributes\":{\"code\":\"\\n        var projections = require(\\\"core/util/projections\\\");\\n        var x = special_vars.data_x\\n        var y = special_vars.data_y\\n        var coords = projections.wgs84_mercator.inverse([x, y])\\n        return \\\"\\\" + (coords[1]).toFixed(4)\\n    \"},\"id\":\"1112\",\"type\":\"CustomJSHover\"},{\"attributes\":{},\"id\":\"1387\",\"type\":\"UnionRenderers\"},{\"attributes\":{\"align\":null,\"below\":[{\"id\":\"1308\",\"type\":\"LinearAxis\"}],\"center\":[{\"id\":\"1312\",\"type\":\"Grid\"},{\"id\":\"1317\",\"type\":\"Grid\"}],\"frame_height\":600,\"frame_width\":400,\"left\":[{\"id\":\"1313\",\"type\":\"LinearAxis\"}],\"margin\":null,\"match_aspect\":true,\"min_border_bottom\":10,\"min_border_left\":10,\"min_border_right\":10,\"min_border_top\":10,\"plot_width\":400,\"renderers\":[{\"id\":\"1356\",\"type\":\"TileRenderer\"},{\"id\":\"1367\",\"type\":\"GlyphRenderer\"},{\"id\":\"1377\",\"type\":\"GlyphRenderer\"}],\"sizing_mode\":\"fixed\",\"title\":{\"id\":\"1300\",\"type\":\"Title\"},\"toolbar\":{\"id\":\"1323\",\"type\":\"Toolbar\"},\"toolbar_location\":null,\"x_range\":{\"id\":\"1021\",\"type\":\"Range1d\"},\"x_scale\":{\"id\":\"1304\",\"type\":\"LinearScale\"},\"y_range\":{\"id\":\"1022\",\"type\":\"Range1d\"},\"y_scale\":{\"id\":\"1306\",\"type\":\"LinearScale\"}},\"id\":\"1299\",\"subtype\":\"Figure\",\"type\":\"Plot\"},{\"attributes\":{},\"id\":\"1319\",\"type\":\"PanTool\"},{\"attributes\":{\"data_source\":{\"id\":\"1103\",\"type\":\"ColumnDataSource\"},\"glyph\":{\"id\":\"1106\",\"type\":\"Scatter\"},\"hover_glyph\":null,\"muted_glyph\":{\"id\":\"1108\",\"type\":\"Scatter\"},\"nonselection_glyph\":{\"id\":\"1107\",\"type\":\"Scatter\"},\"selection_glyph\":null,\"view\":{\"id\":\"1110\",\"type\":\"CDSView\"}},\"id\":\"1109\",\"type\":\"GlyphRenderer\"},{\"attributes\":{\"data_source\":{\"id\":\"1227\",\"type\":\"ColumnDataSource\"},\"glyph\":{\"id\":\"1230\",\"type\":\"MultiLine\"},\"hover_glyph\":null,\"muted_glyph\":{\"id\":\"1232\",\"type\":\"MultiLine\"},\"nonselection_glyph\":{\"id\":\"1231\",\"type\":\"MultiLine\"},\"selection_glyph\":null,\"view\":{\"id\":\"1234\",\"type\":\"CDSView\"}},\"id\":\"1233\",\"type\":\"GlyphRenderer\"},{\"attributes\":{},\"id\":\"1306\",\"type\":\"LinearScale\"},{\"attributes\":{\"dimension\":\"lat\"},\"id\":\"1201\",\"type\":\"MercatorTicker\"},{\"attributes\":{\"dimension\":\"lat\"},\"id\":\"1202\",\"type\":\"MercatorTickFormatter\"},{\"attributes\":{},\"id\":\"1170\",\"type\":\"LinearScale\"},{\"attributes\":{\"callback\":null,\"data\":{\"Latitude\":{\"__ndarray__\":\"orS9JKtPX0FR9/AUo09fQQ==\",\"dtype\":\"float64\",\"shape\":[2]},\"Longitude\":{\"__ndarray__\":\"sf11ytVhMUEfG142cmIxQQ==\",\"dtype\":\"float64\",\"shape\":[2]}},\"selected\":{\"id\":\"1104\",\"type\":\"Selection\"},\"selection_policy\":{\"id\":\"1119\",\"type\":\"UnionRenderers\"}},\"id\":\"1103\",\"type\":\"ColumnDataSource\"},{\"attributes\":{\"grid_line_color\":null,\"ticker\":{\"id\":\"1175\",\"type\":\"BasicTicker\"}},\"id\":\"1178\",\"type\":\"Grid\"},{\"attributes\":{\"fill_alpha\":{\"value\":0.2},\"fill_color\":{\"value\":\"#007f00\"},\"line_alpha\":{\"value\":0.2},\"line_color\":{\"value\":\"#007f00\"},\"size\":{\"units\":\"screen\",\"value\":10.0},\"x\":{\"field\":\"Longitude\"},\"y\":{\"field\":\"Latitude\"}},\"id\":\"1108\",\"type\":\"Scatter\"},{\"attributes\":{},\"id\":\"1175\",\"type\":\"BasicTicker\"},{\"attributes\":{\"callback\":null,\"formatters\":{\"Latitude\":{\"id\":\"1380\",\"type\":\"CustomJSHover\"},\"Longitude\":{\"id\":\"1379\",\"type\":\"CustomJSHover\"}},\"renderers\":[{\"id\":\"1377\",\"type\":\"GlyphRenderer\"}],\"tags\":[\"hv_created\"],\"tooltips\":[[\"Longitude\",\"@{Longitude}{custom}\"],[\"Latitude\",\"@{Latitude}{custom}\"]]},\"id\":\"1296\",\"type\":\"HoverTool\"},{\"attributes\":{\"bottom_units\":\"screen\",\"fill_alpha\":{\"value\":0.5},\"fill_color\":{\"value\":\"lightgrey\"},\"left_units\":\"screen\",\"level\":\"overlay\",\"line_alpha\":{\"value\":1.0},\"line_color\":{\"value\":\"black\"},\"line_dash\":[4,4],\"line_width\":{\"value\":2},\"render_mode\":\"css\",\"right_units\":\"screen\",\"top_units\":\"screen\"},\"id\":\"1350\",\"type\":\"BoxAnnotation\"},{\"attributes\":{},\"id\":\"1180\",\"type\":\"BasicTicker\"},{\"attributes\":{},\"id\":\"1172\",\"type\":\"LinearScale\"},{\"attributes\":{\"factors\":[\"0.0-0.05929533@1175658\",\"0.43779468-0.93970825@1175662\",\"0.92601386-1.0@1175657\",\"0.0-0.05929495@1175658\",\"0.35710288-0.43779468@1175662\",\"0.27504203-0.35710288@1175662\",\"0.20169356-0.27504203@1175662\",\"0.12177414-0.20169356@1175662\",\"0.0-0.12177414@1175662\",\"0.93970825-1.0@1175662\",\"0.92601385-1.0@1175657\",\"0.0-0.06260388@1176155\",\"0.41080731-1.0@1176154\"],\"palette\":[\"#1f77b4\",\"#ff7f0e\",\"#2ca02c\",\"#d62728\",\"#9467bd\",\"#8c564b\",\"#e377c2\",\"#7f7f7f\",\"#bcbd22\",\"#17becf\",\"#1f77b4\",\"#ff7f0e\",\"#2ca02c\"]},\"id\":\"1226\",\"type\":\"CategoricalColorMapper\"},{\"attributes\":{\"axis_label\":\"x\",\"bounds\":\"auto\",\"formatter\":{\"id\":\"1200\",\"type\":\"MercatorTickFormatter\"},\"major_label_orientation\":\"horizontal\",\"ticker\":{\"id\":\"1199\",\"type\":\"MercatorTicker\"}},\"id\":\"1174\",\"type\":\"LinearAxis\"},{\"attributes\":{\"dimension\":1,\"grid_line_color\":null,\"ticker\":{\"id\":\"1180\",\"type\":\"BasicTicker\"}},\"id\":\"1183\",\"type\":\"Grid\"},{\"attributes\":{},\"id\":\"1185\",\"type\":\"PanTool\"},{\"attributes\":{\"active_drag\":\"auto\",\"active_inspect\":\"auto\",\"active_multi\":null,\"active_scroll\":{\"id\":\"1186\",\"type\":\"WheelZoomTool\"},\"active_tap\":\"auto\",\"tools\":[{\"id\":\"1159\",\"type\":\"HoverTool\"},{\"id\":\"1162\",\"type\":\"HoverTool\"},{\"id\":\"1185\",\"type\":\"PanTool\"},{\"id\":\"1186\",\"type\":\"WheelZoomTool\"},{\"id\":\"1187\",\"type\":\"BoxZoomTool\"},{\"id\":\"1188\",\"type\":\"ResetTool\"}]},\"id\":\"1189\",\"type\":\"Toolbar\"},{\"attributes\":{\"zoom_on_axis\":false},\"id\":\"1186\",\"type\":\"WheelZoomTool\"},{\"attributes\":{\"dimension\":\"lon\"},\"id\":\"1199\",\"type\":\"MercatorTicker\"},{\"attributes\":{\"match_aspect\":true,\"overlay\":{\"id\":\"1216\",\"type\":\"BoxAnnotation\"}},\"id\":\"1187\",\"type\":\"BoxZoomTool\"},{\"attributes\":{},\"id\":\"1188\",\"type\":\"ResetTool\"}],\"root_ids\":[\"1449\"]},\"title\":\"Bokeh Application\",\"version\":\"1.4.0\"}};\n",
       "  var render_items = [{\"docid\":\"9ab31ecb-283e-4190-9672-42928bcb7afd\",\"roots\":{\"1449\":\"27f4179e-97c2-4d0a-a12b-19b7080fd12b\"}}];\n",
       "  root.Bokeh.embed.embed_items_notebook(docs_json, render_items);\n",
       "\n",
       "  }\n",
       "  if (root.Bokeh !== undefined) {\n",
       "    embed_document(root);\n",
       "  } else {\n",
       "    var attempts = 0;\n",
       "    var timer = setInterval(function(root) {\n",
       "      if (root.Bokeh !== undefined) {\n",
       "        clearInterval(timer);\n",
       "        embed_document(root);\n",
       "      } else {\n",
       "        attempts++;\n",
       "        if (attempts > 100) {\n",
       "          clearInterval(timer);\n",
       "          console.log(\"Bokeh: ERROR: Unable to run BokehJS code because BokehJS library is missing\");\n",
       "        }\n",
       "      }\n",
       "    }, 10, root)\n",
       "  }\n",
       "})(window);</script>"
      ],
      "text/plain": [
       ":Layout\n",
       "   .Overlay.I   :Overlay\n",
       "      .Tiles.I  :Tiles   [x,y]\n",
       "      .Path.I   :Path   [Longitude,Latitude]   (kortform)\n",
       "      .Points.I :Points   [Longitude,Latitude]\n",
       "   .Overlay.II  :Overlay\n",
       "      .Tiles.I  :Tiles   [x,y]\n",
       "      .Path.I   :Path   [Longitude,Latitude]   (kortform)\n",
       "      .Points.I :Points   [Longitude,Latitude]\n",
       "   .Overlay.III :Overlay\n",
       "      .Tiles.I  :Tiles   [x,y]\n",
       "      .Path.I   :Path   [Longitude,Latitude]   (kortform)\n",
       "      .Points.I :Points   [Longitude,Latitude]"
      ]
     },
     "execution_count": 8,
     "metadata": {
      "application/vnd.holoviews_exec.v0+json": {
       "id": "1449"
      }
     },
     "output_type": "execute_result"
    }
   ],
   "source": [
    "vvirute.hvplot(  crs=ccrs.UTM(zone=33), tiles='OSM', line_width=10, c='kortform', \n",
    "            cmap='Category10', legend=False, title='Visveginfo' ) * \\\n",
    "orginalpunkt.hvplot( crs=ccrs.UTM(zone=33), size=100, color='g') + \\\n",
    "nyrute_vt.hvplot( crs=ccrs.UTM(zone=33), tiles='OSM', line_width=10, c='kortform', \\\n",
    "                 cmap='Category10', legend=False, title='NVDB vegtrasé' ) * \\\n",
    "orginalpunkt.hvplot( crs=ccrs.UTM(zone=33), size=100, color='g') + \\\n",
    "nyrute_kb.hvplot( crs=ccrs.UTM(zone=33), tiles='OSM', line_width=10, c='kortform', \\\n",
    "                 cmap='Category10', legend=False, title='NVDB detaljerte lenker' ) * \\\n",
    "orginalpunkt.hvplot( crs=ccrs.UTM(zone=33), size=100, color='g')\n",
    "\n",
    "# nyepunkt.hvplot( crs=ccrs.UTM(zone=33), size=300, color='r')"
   ]
  },
  {
   "cell_type": "markdown",
   "metadata": {},
   "source": [
    "# Få ut hele rundkjøringen? \n",
    "\n",
    "For stedfesting av abstrakte strekningsobjekt ønsker vi som regel å stedfeste på **hele** rundkjøringen. Mulighet til å få ut hele rundkjøringen? "
   ]
  },
  {
   "cell_type": "code",
   "execution_count": 12,
   "metadata": {},
   "outputs": [
    {
     "data": {
      "text/html": [
       "<div>\n",
       "<style scoped>\n",
       "    .dataframe tbody tr th:only-of-type {\n",
       "        vertical-align: middle;\n",
       "    }\n",
       "\n",
       "    .dataframe tbody tr th {\n",
       "        vertical-align: top;\n",
       "    }\n",
       "\n",
       "    .dataframe thead th {\n",
       "        text-align: right;\n",
       "    }\n",
       "</style>\n",
       "<table border=\"1\" class=\"dataframe\">\n",
       "  <thead>\n",
       "    <tr style=\"text-align: right;\">\n",
       "      <th></th>\n",
       "      <th>typeVeg</th>\n",
       "      <th>vegref</th>\n",
       "    </tr>\n",
       "  </thead>\n",
       "  <tbody>\n",
       "    <tr>\n",
       "      <th>0</th>\n",
       "      <td>Kanalisert veg</td>\n",
       "      <td>FV260 S8D1 m547-575</td>\n",
       "    </tr>\n",
       "    <tr>\n",
       "      <th>1</th>\n",
       "      <td>Rundkjøring</td>\n",
       "      <td>FV260 S8D1 m547 KD1 m28-34</td>\n",
       "    </tr>\n",
       "    <tr>\n",
       "      <th>2</th>\n",
       "      <td>Rundkjøring</td>\n",
       "      <td>FV260 S8D1 m547 KD1 m22-28</td>\n",
       "    </tr>\n",
       "    <tr>\n",
       "      <th>3</th>\n",
       "      <td>Rundkjøring</td>\n",
       "      <td>FV260 S8D1 m547 KD1 m16-22</td>\n",
       "    </tr>\n",
       "    <tr>\n",
       "      <th>4</th>\n",
       "      <td>Rundkjøring</td>\n",
       "      <td>FV260 S8D1 m547 KD1 m9-16</td>\n",
       "    </tr>\n",
       "    <tr>\n",
       "      <th>5</th>\n",
       "      <td>Rundkjøring</td>\n",
       "      <td>FV260 S8D1 m547 KD1 m0-9</td>\n",
       "    </tr>\n",
       "    <tr>\n",
       "      <th>6</th>\n",
       "      <td>Rundkjøring</td>\n",
       "      <td>FV260 S8D1 m547 KD1 m74-78</td>\n",
       "    </tr>\n",
       "    <tr>\n",
       "      <th>7</th>\n",
       "      <td>Kanalisert veg</td>\n",
       "      <td>FV260 S8D1 m519-547</td>\n",
       "    </tr>\n",
       "  </tbody>\n",
       "</table>\n",
       "</div>"
      ],
      "text/plain": [
       "          typeVeg                      vegref\n",
       "0  Kanalisert veg         FV260 S8D1 m547-575\n",
       "1     Rundkjøring  FV260 S8D1 m547 KD1 m28-34\n",
       "2     Rundkjøring  FV260 S8D1 m547 KD1 m22-28\n",
       "3     Rundkjøring  FV260 S8D1 m547 KD1 m16-22\n",
       "4     Rundkjøring   FV260 S8D1 m547 KD1 m9-16\n",
       "5     Rundkjøring    FV260 S8D1 m547 KD1 m0-9\n",
       "6     Rundkjøring  FV260 S8D1 m547 KD1 m74-78\n",
       "7  Kanalisert veg         FV260 S8D1 m519-547"
      ]
     },
     "execution_count": 12,
     "metadata": {},
     "output_type": "execute_result"
    }
   ],
   "source": [
    "nyrute_vt[['typeVeg', 'vegref']]"
   ]
  }
 ],
 "metadata": {
  "hide_input": false,
  "kernelspec": {
   "display_name": "Python 3",
   "language": "python",
   "name": "python3"
  },
  "language_info": {
   "codemirror_mode": {
    "name": "ipython",
    "version": 3
   },
   "file_extension": ".py",
   "mimetype": "text/x-python",
   "name": "python",
   "nbconvert_exporter": "python",
   "pygments_lexer": "ipython3",
   "version": "3.8.1"
  },
  "toc": {
   "base_numbering": 1,
   "nav_menu": {},
   "number_sections": true,
   "sideBar": true,
   "skip_h1_title": false,
   "title_cell": "Table of Contents",
   "title_sidebar": "Contents",
   "toc_cell": false,
   "toc_position": {},
   "toc_section_display": true,
   "toc_window_display": false
  },
  "varInspector": {
   "cols": {
    "lenName": 16,
    "lenType": 16,
    "lenVar": 40
   },
   "kernels_config": {
    "python": {
     "delete_cmd_postfix": "",
     "delete_cmd_prefix": "del ",
     "library": "var_list.py",
     "varRefreshCmd": "print(var_dic_list())"
    },
    "r": {
     "delete_cmd_postfix": ") ",
     "delete_cmd_prefix": "rm(",
     "library": "var_list.r",
     "varRefreshCmd": "cat(var_dic_list()) "
    }
   },
   "types_to_exclude": [
    "module",
    "function",
    "builtin_function_or_method",
    "instance",
    "_Feature"
   ],
   "window_display": false
  }
 },
 "nbformat": 4,
 "nbformat_minor": 2
}
